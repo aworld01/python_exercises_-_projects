{
 "cells": [
  {
   "cell_type": "code",
   "execution_count": 1,
   "metadata": {},
   "outputs": [],
   "source": [
    "import spacy\n",
    "\n",
    "nlp = spacy.load(\"en_core_web_sm\")"
   ]
  },
  {
   "cell_type": "code",
   "execution_count": 2,
   "metadata": {},
   "outputs": [],
   "source": [
    "with open('demo.txt', 'r') as rf:\n",
    "    data = rf.read()\n",
    "data = nlp(data)"
   ]
  },
  {
   "cell_type": "code",
   "execution_count": 3,
   "metadata": {},
   "outputs": [],
   "source": [
    "def unique(arg):\n",
    "    all_words = sorted(set(arg))\n",
    "    return all_words\n",
    "\n",
    "# data = [\"apple\", \"mango\", \"banana\", \"apple\", \"guava\", \".\", \",\", \"$\", \"!\"]\n",
    "# print(unique(data))"
   ]
  },
  {
   "cell_type": "code",
   "execution_count": 5,
   "metadata": {},
   "outputs": [
    {
     "name": "stdout",
     "output_type": "stream",
     "text": [
      "[\"Bro, don't say no!\", 'Captain America ate 100$ of samosa.', 'Do you love your Family?', 'Hello world!', 'How are you?', 'I love my Cat.', 'I love my Dog.', 'I love you to much, do you love me?', 'My dog and cat is amaging.', \"My name is Abdul Zoha and I'm learning python programming.\", 'Then he said I can do this all day.', 'This is not good for your personality.']\n"
     ]
    }
   ],
   "source": [
    "def sentence_tok(arg):\n",
    "    temp = [sent.text for sent in arg.sents]\n",
    "    sentences= unique(temp)\n",
    "    return sentences\n",
    "\n",
    "print(sentence_tok(data))"
   ]
  },
  {
   "cell_type": "code",
   "execution_count": 6,
   "metadata": {},
   "outputs": [
    {
     "name": "stdout",
     "output_type": "stream",
     "text": [
      "['!', '$', \"'m\", ',', '.', '100', '?', 'Abdul', 'America', 'Bro', 'Captain', 'Cat', 'Do', 'Dog', 'Family', 'Hello', 'How', 'I', 'My', 'Then', 'This', 'Zoha', 'all', 'amaging', 'and', 'are', 'ate', 'can', 'cat', 'day', 'do', 'dog', 'for', 'good', 'he', 'is', 'learning', 'love', 'me', 'much', 'my', \"n't\", 'name', 'no', 'not', 'of', 'personality', 'programming', 'python', 'said', 'samosa', 'say', 'this', 'to', 'world', 'you', 'your']\n"
     ]
    }
   ],
   "source": [
    "def word_tok(arg):\n",
    "    temp = [token.text for token in arg]\n",
    "    words = unique(temp)\n",
    "    return words\n",
    "\n",
    "d = word_tok(data)\n",
    "print(d)"
   ]
  }
 ],
 "metadata": {
  "kernelspec": {
   "display_name": "Python 3",
   "language": "python",
   "name": "python3"
  },
  "language_info": {
   "codemirror_mode": {
    "name": "ipython",
    "version": 3
   },
   "file_extension": ".py",
   "mimetype": "text/x-python",
   "name": "python",
   "nbconvert_exporter": "python",
   "pygments_lexer": "ipython3",
   "version": "3.11.1"
  },
  "orig_nbformat": 4
 },
 "nbformat": 4,
 "nbformat_minor": 2
}
