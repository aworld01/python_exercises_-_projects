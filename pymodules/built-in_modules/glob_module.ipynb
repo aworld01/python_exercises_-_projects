{
 "cells": [
  {
   "cell_type": "code",
   "execution_count": 6,
   "metadata": {},
   "outputs": [],
   "source": [
    "import os\n",
    "from glob import glob, iglob"
   ]
  },
  {
   "cell_type": "code",
   "execution_count": 7,
   "metadata": {},
   "outputs": [
    {
     "data": {
      "text/plain": [
       "['03_suprocess_module.py',\n",
       " '04_getpass_module.py',\n",
       " '05_json_module',\n",
       " '05_request_module.py',\n",
       " '06_sys_module',\n",
       " 'glob_module.ipynb',\n",
       " 'glob_module.py',\n",
       " 'keyword_module.py',\n",
       " 'OS_&_Shutil_modules.py',\n",
       " 'psutil_module',\n",
       " 'random_module.py']"
      ]
     },
     "execution_count": 7,
     "metadata": {},
     "output_type": "execute_result"
    }
   ],
   "source": [
    "os.listdir()"
   ]
  },
  {
   "cell_type": "code",
   "execution_count": 8,
   "metadata": {},
   "outputs": [
    {
     "data": {
      "text/plain": [
       "['03_suprocess_module.py',\n",
       " '04_getpass_module.py',\n",
       " '05_json_module',\n",
       " '05_request_module.py',\n",
       " '06_sys_module',\n",
       " 'glob_module.ipynb',\n",
       " 'glob_module.py',\n",
       " 'keyword_module.py',\n",
       " 'OS_&_Shutil_modules.py',\n",
       " 'psutil_module',\n",
       " 'random_module.py']"
      ]
     },
     "execution_count": 8,
     "metadata": {},
     "output_type": "execute_result"
    }
   ],
   "source": [
    "glob(\"*\") #to select all files and folders"
   ]
  },
  {
   "cell_type": "code",
   "execution_count": 13,
   "metadata": {},
   "outputs": [
    {
     "data": {
      "text/plain": [
       "[]"
      ]
     },
     "execution_count": 13,
     "metadata": {},
     "output_type": "execute_result"
    }
   ],
   "source": [
    "glob(\"*.txt\") #to select only \"txt\" extension's file"
   ]
  },
  {
   "cell_type": "code",
   "execution_count": 14,
   "metadata": {},
   "outputs": [
    {
     "data": {
      "text/plain": [
       "[]"
      ]
     },
     "execution_count": 14,
     "metadata": {},
     "output_type": "execute_result"
    }
   ],
   "source": [
    "glob(\"test.txt\") #to select all \"test.txt\" file"
   ]
  },
  {
   "cell_type": "code",
   "execution_count": 20,
   "metadata": {},
   "outputs": [
    {
     "data": {
      "text/plain": [
       "['glob_module.py']"
      ]
     },
     "execution_count": 20,
     "metadata": {},
     "output_type": "execute_result"
    }
   ],
   "source": [
    "glob(\"???????????.py\") #to select only that file containing 11 letters"
   ]
  },
  {
   "cell_type": "code",
   "execution_count": 25,
   "metadata": {},
   "outputs": [
    {
     "data": {
      "text/plain": [
       "['glob_module.py']"
      ]
     },
     "execution_count": 25,
     "metadata": {},
     "output_type": "execute_result"
    }
   ],
   "source": [
    "glob(\"????????ule.py\") #to select only that file containing 11 letters and ends with 'ule.py'"
   ]
  },
  {
   "cell_type": "code",
   "execution_count": 26,
   "metadata": {},
   "outputs": [
    {
     "data": {
      "text/plain": [
       "['glob_module.ipynb', 'glob_module.py']"
      ]
     },
     "execution_count": 26,
     "metadata": {},
     "output_type": "execute_result"
    }
   ],
   "source": [
    "glob(\"[bg]*.*\") #select file which starts with \"b\" and \"g\""
   ]
  },
  {
   "cell_type": "code",
   "execution_count": 28,
   "metadata": {},
   "outputs": [
    {
     "data": {
      "text/plain": [
       "['keyword_module.py']"
      ]
     },
     "execution_count": 28,
     "metadata": {},
     "output_type": "execute_result"
    }
   ],
   "source": [
    "glob(\"[kn]*.py\")#to select file that matchs with 'b', 'n' as first charector and extension can be \".py\"."
   ]
  },
  {
   "cell_type": "code",
   "execution_count": 29,
   "metadata": {},
   "outputs": [
    {
     "data": {
      "text/plain": [
       "['03_suprocess_module.py',\n",
       " '04_getpass_module.py',\n",
       " '05_request_module.py',\n",
       " 'glob_module.py',\n",
       " 'keyword_module.py',\n",
       " 'OS_&_Shutil_modules.py',\n",
       " 'random_module.py']"
      ]
     },
     "execution_count": 29,
     "metadata": {},
     "output_type": "execute_result"
    }
   ],
   "source": [
    "glob(\"[!bn]*.py\") #This is opposite of above"
   ]
  },
  {
   "cell_type": "code",
   "execution_count": 30,
   "metadata": {},
   "outputs": [
    {
     "data": {
      "text/plain": [
       "['03_suprocess_module.py',\n",
       " '04_getpass_module.py',\n",
       " '05_request_module.py',\n",
       " 'glob_module.py',\n",
       " 'keyword_module.py',\n",
       " 'OS_&_Shutil_modules.py',\n",
       " 'random_module.py',\n",
       " '05_json_module\\\\01_Json_load.py',\n",
       " '05_json_module\\\\02_Json_dump.py',\n",
       " '06_sys_module\\\\01_sys_module.py',\n",
       " '06_sys_module\\\\02_sys.argv.py',\n",
       " '06_sys_module\\\\03_exercise.py',\n",
       " 'psutil_module\\\\battary.py']"
      ]
     },
     "execution_count": 30,
     "metadata": {},
     "output_type": "execute_result"
    }
   ],
   "source": [
    "glob(\"**/*.py\", recursive=True) #to select all files recursively"
   ]
  },
  {
   "cell_type": "code",
   "execution_count": 31,
   "metadata": {},
   "outputs": [
    {
     "data": {
      "text/plain": [
       "['03_suprocess_module.py',\n",
       " '04_getpass_module.py',\n",
       " '05_request_module.py',\n",
       " 'glob_module.py',\n",
       " 'keyword_module.py',\n",
       " 'OS_&_Shutil_modules.py',\n",
       " 'random_module.py',\n",
       " '05_json_module\\\\01_Json_load.py',\n",
       " '05_json_module\\\\02_Json_dump.py',\n",
       " '06_sys_module\\\\01_sys_module.py',\n",
       " '06_sys_module\\\\02_sys.argv.py',\n",
       " '06_sys_module\\\\03_exercise.py',\n",
       " 'psutil_module\\\\battary.py']"
      ]
     },
     "execution_count": 31,
     "metadata": {},
     "output_type": "execute_result"
    }
   ],
   "source": [
    "glob(\"**/*.py\", recursive=True, include_hidden=True) #to select all files recursively including hidden file also"
   ]
  },
  {
   "cell_type": "code",
   "execution_count": 33,
   "metadata": {},
   "outputs": [
    {
     "data": {
      "text/plain": [
       "<generator object _iglob at 0x0000016CB02F3880>"
      ]
     },
     "execution_count": 33,
     "metadata": {},
     "output_type": "execute_result"
    }
   ],
   "source": [
    "globs = iglob(\"*\") #it will return a generator\n",
    "globs"
   ]
  },
  {
   "cell_type": "code",
   "execution_count": 35,
   "metadata": {},
   "outputs": [
    {
     "name": "stdout",
     "output_type": "stream",
     "text": [
      "05_json_module\n",
      "05_request_module.py\n"
     ]
    }
   ],
   "source": [
    "print(globs.__next__())\n",
    "print(globs.__next__())"
   ]
  }
 ],
 "metadata": {
  "kernelspec": {
   "display_name": "Python 3",
   "language": "python",
   "name": "python3"
  },
  "language_info": {
   "codemirror_mode": {
    "name": "ipython",
    "version": 3
   },
   "file_extension": ".py",
   "mimetype": "text/x-python",
   "name": "python",
   "nbconvert_exporter": "python",
   "pygments_lexer": "ipython3",
   "version": "3.11.7"
  }
 },
 "nbformat": 4,
 "nbformat_minor": 2
}
