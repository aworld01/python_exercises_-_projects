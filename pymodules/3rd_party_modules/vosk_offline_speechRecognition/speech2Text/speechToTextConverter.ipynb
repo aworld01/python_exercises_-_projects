{
 "cells": [
  {
   "cell_type": "code",
   "execution_count": 41,
   "metadata": {},
   "outputs": [],
   "source": [
    "import os\n",
    "import json\n",
    "from vosk import Model, KaldiRecognizer\n",
    "from pydub import AudioSegment\n",
    "import moviepy.editor as mp #pip install moviepy"
   ]
  },
  {
   "cell_type": "code",
   "execution_count": 42,
   "metadata": {},
   "outputs": [],
   "source": [
    "frameRate = 16000\n",
    "channel = 1\n",
    "model = Model(\"vosk-model-small-en-us-0.15\")"
   ]
  },
  {
   "cell_type": "code",
   "execution_count": 43,
   "metadata": {},
   "outputs": [],
   "source": [
    "l = os.listdir() #to get file list of current directory\n",
    "file = [i for i in l if i.endswith((\".mp3\", \".mp4\"))][0] #get only \".mp3\" or \"mp4\" file which is on zero index"
   ]
  },
  {
   "cell_type": "code",
   "execution_count": 44,
   "metadata": {},
   "outputs": [],
   "source": [
    "file_name = os.path.splitext(file)[0] #split file name without extension to save txt file with file name"
   ]
  },
  {
   "cell_type": "code",
   "execution_count": 45,
   "metadata": {},
   "outputs": [],
   "source": [
    "\"\"\"convert video into audio\"\"\"\n",
    "def audioConverter(inp):\n",
    "    print(\"Converting video into audio\")\n",
    "    video_path = inp\n",
    "    audio_path = \"temp.mp3\"\n",
    "    load = mp.VideoFileClip(video_path)\n",
    "    load.audio.write_audiofile(audio_path)"
   ]
  },
  {
   "cell_type": "code",
   "execution_count": 46,
   "metadata": {},
   "outputs": [],
   "source": [
    "\"\"\"convert audio into binary (pip install pydub)\"\"\"\n",
    "def conv(file):\n",
    "    print(\"Converting audio into binary\")\n",
    "    mp3 = AudioSegment.from_mp3(file)\n",
    "    mp3 = mp3.set_channels(channel)\n",
    "    mp3 = mp3.set_frame_rate(frameRate)\n",
    "    data = mp3.raw_data #it returns result into binary representation.\n",
    "    return data"
   ]
  },
  {
   "cell_type": "code",
   "execution_count": 47,
   "metadata": {},
   "outputs": [],
   "source": [
    "\"\"\"convert binary into json (pip install vosk)\"\"\"\n",
    "def recog(r_data):\n",
    "    print(\"Converting binary into json\")\n",
    "    rec = KaldiRecognizer(model, frameRate)\n",
    "    rec.SetWords(True)\n",
    "    rec.AcceptWaveform(r_data)\n",
    "    result = rec.Result() #returns result into json format\n",
    "\n",
    "    \"\"\"using json convert data into string form\"\"\"\n",
    "    text = json.loads(result)[\"text\"] #converting data into string form\n",
    "    return text"
   ]
  },
  {
   "cell_type": "code",
   "execution_count": 48,
   "metadata": {},
   "outputs": [
    {
     "name": "stdout",
     "output_type": "stream",
     "text": [
      "Converting video into audio\n",
      "MoviePy - Writing audio in temp.mp3\n"
     ]
    },
    {
     "name": "stderr",
     "output_type": "stream",
     "text": [
      "                                                                        \r"
     ]
    },
    {
     "name": "stdout",
     "output_type": "stream",
     "text": [
      "MoviePy - Done.\n",
      "Converting audio into binary\n",
      "Converting binary into json\n"
     ]
    }
   ],
   "source": [
    "\"\"\"it will check and transcribe if \".mp3\" file is available, alse it will transcribe \".mp4\" file if available\"\"\"\n",
    "if file.endswith(\".mp3\"):\n",
    "    data = conv(file)\n",
    "    with open(f\"{file_name}.txt\", \"w\") as wf:\n",
    "        wf.write(recog(data)) #calling recog() function\n",
    "else:\n",
    "    audioConverter(file)\n",
    "    data = conv(\"temp.mp3\")    \n",
    "    with open(f\"{file_name}.txt\", \"w\") as wf:\n",
    "        wf.write(recog(data)) #calling recog() function\n",
    "    os.remove(\"temp.mp3\")"
   ]
  },
  {
   "cell_type": "code",
   "execution_count": null,
   "metadata": {},
   "outputs": [],
   "source": []
  }
 ],
 "metadata": {
  "kernelspec": {
   "display_name": "Python 3",
   "language": "python",
   "name": "python3"
  },
  "language_info": {
   "codemirror_mode": {
    "name": "ipython",
    "version": 3
   },
   "file_extension": ".py",
   "mimetype": "text/x-python",
   "name": "python",
   "nbconvert_exporter": "python",
   "pygments_lexer": "ipython3",
   "version": "3.11.1"
  },
  "orig_nbformat": 4
 },
 "nbformat": 4,
 "nbformat_minor": 2
}
